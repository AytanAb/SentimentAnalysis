{
 "cells": [
  {
   "cell_type": "markdown",
   "id": "cc9a80d8",
   "metadata": {},
   "source": [
    "# Sentiment Analysis Project "
   ]
  },
  {
   "cell_type": "markdown",
   "id": "bc0f5664",
   "metadata": {},
   "source": [
    "## To read the content of text files in a given folder"
   ]
  },
  {
   "cell_type": "code",
   "execution_count": 1,
   "id": "d75393c3",
   "metadata": {},
   "outputs": [],
   "source": [
    "import os\n",
    "import pandas as pd\n",
    "from os.path import isfile, join\n",
    "from os import listdir\n",
    "import warnings \n",
    "def read_file(sentiment):\n",
    "    case_file_path = sentiment + '/'\n",
    "    case_onlyfiles = [f for f in os.listdir(case_file_path) if isfile(join(case_file_path, f))]\n",
    "    \n",
    "    data_list = []\n",
    "    #reads each file's content\n",
    "    for i in case_onlyfiles:\n",
    "        with open(sentiment + '/' + i, 'r', encoding=\"utf8\") as file:\n",
    "            data = file.read().replace('\\n','')\n",
    "            data_list.append(data)\n",
    "    res = pd.DataFrame(data_list, columns=['Comment'])\n",
    "    res['Sentiment'] = sentiment\n",
    "    return res\n",
    "pos = 'pos'\n",
    "neg = 'neg'\n",
    "pos = read_file(pos)\n",
    "neg = read_file(neg)\n",
    "\n",
    "df = pd.concat([pos, neg]).reset_index().drop('index', axis = 1)\n",
    "df = df.sample( frac = 1)\n",
    "df = df.sample( frac = 1)"
   ]
  },
  {
   "cell_type": "code",
   "execution_count": 2,
   "id": "b8d37b7a",
   "metadata": {},
   "outputs": [
    {
     "data": {
      "text/html": [
       "<div>\n",
       "<style scoped>\n",
       "    .dataframe tbody tr th:only-of-type {\n",
       "        vertical-align: middle;\n",
       "    }\n",
       "\n",
       "    .dataframe tbody tr th {\n",
       "        vertical-align: top;\n",
       "    }\n",
       "\n",
       "    .dataframe thead th {\n",
       "        text-align: right;\n",
       "    }\n",
       "</style>\n",
       "<table border=\"1\" class=\"dataframe\">\n",
       "  <thead>\n",
       "    <tr style=\"text-align: right;\">\n",
       "      <th></th>\n",
       "      <th>Comment</th>\n",
       "      <th>Sentiment</th>\n",
       "    </tr>\n",
       "  </thead>\n",
       "  <tbody>\n",
       "    <tr>\n",
       "      <th>102</th>\n",
       "      <td>\"Qaçaq\" yəqin ki, indiyə qədər çəkilmiş ən böy...</td>\n",
       "      <td>pos</td>\n",
       "    </tr>\n",
       "    <tr>\n",
       "      <th>1497</th>\n",
       "      <td>Bu film mick jaggerin abe lincoln saqqalı ilə ...</td>\n",
       "      <td>neg</td>\n",
       "    </tr>\n",
       "    <tr>\n",
       "      <th>1000</th>\n",
       "      <td>süjet: iki yeniyetmə cütlük kilsə ziyafətinə g...</td>\n",
       "      <td>neg</td>\n",
       "    </tr>\n",
       "    <tr>\n",
       "      <th>1055</th>\n",
       "      <td>gözləntilərinizi necə məğlub edə biləcəyiniz g...</td>\n",
       "      <td>neg</td>\n",
       "    </tr>\n",
       "    <tr>\n",
       "      <th>622</th>\n",
       "      <td>Dennis Rodmanın əslində bu planetdən olub-olma...</td>\n",
       "      <td>pos</td>\n",
       "    </tr>\n",
       "  </tbody>\n",
       "</table>\n",
       "</div>"
      ],
      "text/plain": [
       "                                                Comment Sentiment\n",
       "102   \"Qaçaq\" yəqin ki, indiyə qədər çəkilmiş ən böy...       pos\n",
       "1497  Bu film mick jaggerin abe lincoln saqqalı ilə ...       neg\n",
       "1000  süjet: iki yeniyetmə cütlük kilsə ziyafətinə g...       neg\n",
       "1055  gözləntilərinizi necə məğlub edə biləcəyiniz g...       neg\n",
       "622   Dennis Rodmanın əslində bu planetdən olub-olma...       pos"
      ]
     },
     "execution_count": 2,
     "metadata": {},
     "output_type": "execute_result"
    }
   ],
   "source": [
    "df.head()"
   ]
  },
  {
   "cell_type": "code",
   "execution_count": 3,
   "id": "978f1309",
   "metadata": {},
   "outputs": [
    {
     "data": {
      "text/plain": [
       "'komikslərdən uyğunlaşdırılmış filmlər, istər super qəhrəmanlar ( batman , superman , kürü ) haqqında olsun , istərsə də uşaqlara ( casper ) və ya arthouse izdihamına ( xəyal dünyası ) yönəlmiş olsun , bir çox uğur qazanıb , lakin heç vaxt belə bir komik kitab olmayıb. əvvəl cəhənnəmdən.yeni başlayanlar üçün onu 80-ci illərin ortalarında Watchmen adlı 12 hissədən ibarət seriyası ilə medianı tamamilə yeni səviyyəyə gətirən alan Mur (və Eddie Kempbell) yaradıb.Mur və Kempbellin jak mövzusunu hərtərəfli araşdırdıqlarını söyləmək ripper, Michael Jackson\\'un bir az qəribə görünməyə başladığını söyləmək kimi olardı.kitab (və ya əgər istəyirsinizsə, \"qrafik roman\") uzunluğu 500 səhifədən çoxdur və əlavə qeydlərdən başqa heç nədən ibarət olmayan 30-a yaxın səhifəni əhatə edir.başqa sözlə , bu filmi mənbəsinə görə rədd etməyin .Əgər bütün komiks işini keçə bilsəniz, cəhənnəmin rejissorları Albert və Allen Hughes tərəfindən başqa bir büdrəmə bloku tapa bilərsiniz.Hughes qardaşlarının buna rejissorluğunu tapşırmaq az qala yerkökü tökmək qədər gülünc görünür, yaxşı, hər şey, amma məni tapmacalayın: gettoda qurulmuş və həqiqətən şiddətli küçə cinayətlərini əks etdirən bir filmi kim idarə edə bilər ki, təhlükə ii arxasında olan dəli dahilərdən daha yaxşı? cəmiyyət?Söz mövzusu getto, əlbəttə ki, 1888-ci ildə Londonun şərq ucundakı Whitechapeldir.bura fahişələrin (\"bədbəxtlər\" adlanır) öz peşələrini cərrahi dəqiqliklə oyaraq keçirən bu sirli psixopatdan bir az əsəbiləşməyə başladığı çirkli, isli yerdir.İlk sərtlik ortaya çıxanda, mis Peter Qodli (robbie coltrane, dünya kifayət deyil) işi sındırmaq üçün müfəttiş Frederik Abberlaynı (Johnny Depp, Blow) çağırır.Dul qalmış Abberlinin peyğəmbərlik yuxuları var, o, çoxlu miqdarda absinthe və tiryəklə yatırtmağa uğursuz cəhd edir.Whitechapel-ə gəldikdən sonra o, Meri Kelli adlı bədbəxt bir adamla dostlaşır (hezer Qrem, belə deyil) və hətta polis cərrahının da mədəsinin öhdəsindən gələ bilmədiyi dəhşətli dərəcədə dəhşətli cinayətləri araşdırmağa davam edir.Düşünmürəm ki, heç kimə jack the ripper haqqında qısa məlumat verilməlidir, ona görə də burada təfərrüatlara girməyəcəyəm, ancaq Mur və Kempbellin həm qatilin şəxsiyyəti, həm də onun səbəbləri haqqında unikal və maraqlı nəzəriyyəsi olduğunu söyləməkdən başqa öldürməyi seçir.komiksdə ripperin kimliyini gizlətməkdən çəkinmirlər, lakin ssenaristlər Terri Hayes (şaquli limit) və rafael yglesias (les mis? rables) onu axıra qədər tamaşaçılardan gizlətmək üçün yaxşı iş görürlər.Yerlilərin yəhudilərə və hindlilərə kor-koranə günah barmağını göstərməsinə baxmaq gülməlidir, çünki bir ingilis heç vaxt belə dəhşətli hərəkətlər edə bilməz.və cəhənnəmin sonundan məni günlərlə Simpsonlardakı daşqıranların mahnısını fit çalmağa məcbur etdi (\"elektrikli avtomobili kim saxlayar/kim Stiv Quttenberqi ulduz etdi?\").narahat olmayın - gördüyünüz zaman hər şey başa düşəcək.İndi cəhənnəmin görünüşündən: o, əlbəttə ki, kifayət qədər qaranlıq və tutqundur və onun meymunlar planetindən daha çox Tim Burton filminə bənzədiyini görmək təəccüblüdür (bəzən yuxulu boşluq 2 kimi görünür).Gördüyüm çap tam bitməmişdi (həm rəng, həm də musiqi yekunlaşdırılmamışdı, ona görə də Merilin Manson haqqında heç bir şərh yoxdur), lakin kinematoqraf Peter Deminq (bir söz demə) Viktoriya dövrünün londonunun bərbadlığını məharətlə çəkir və ona kömək edir. çılğın öldürmə səhnələri mənə əkiz zirvələrdəki çılğın flashbackləri xatırladır, baxmayaraq ki, filmdəki şiddət ağ-qara komiksdəki ilə müqayisədə solğun görünür.oskar laureatı Martin Childsin (aşiq Şekspir) istehsal dizaynı orijinal Praqa ətrafını bir ürpertici yerə çevirir.hətta cəhənnəmdən gələn aktyorluq da möhkəmdir, xəyalpərəst depp tipik olaraq güclü bir performansa çevrilir və britaniyalı vurğunu ustalıqla idarə edir.ians holm (joe gould\\'s secret) və richardson (102 dalmatians) böyük köməkçi rollarda iştirak edirlər, lakin burada böyük sürpriz Grahamdır.O, ilk dəfə ağzını açanda irland ləhcəsi cəhdini təsəvvür edərək ürkdüm, amma əslində bu heç də pis deyildi.film , lakin , hər şey yaxşıdır .2 : 00 - r güclü zorakılıq/qor , seksuallıq , dil və narkotik məzmunu üçün'"
      ]
     },
     "execution_count": 3,
     "metadata": {},
     "output_type": "execute_result"
    }
   ],
   "source": [
    "df['Comment'][0]"
   ]
  },
  {
   "cell_type": "code",
   "execution_count": 4,
   "id": "8a5c2e21",
   "metadata": {},
   "outputs": [
    {
     "data": {
      "text/plain": [
       "(2000, 2)"
      ]
     },
     "execution_count": 4,
     "metadata": {},
     "output_type": "execute_result"
    }
   ],
   "source": [
    "df.shape"
   ]
  },
  {
   "cell_type": "code",
   "execution_count": 5,
   "id": "3791bd9c",
   "metadata": {},
   "outputs": [
    {
     "data": {
      "text/plain": [
       "Comment      0\n",
       "Sentiment    0\n",
       "dtype: int64"
      ]
     },
     "execution_count": 5,
     "metadata": {},
     "output_type": "execute_result"
    }
   ],
   "source": [
    "df.isna().sum()"
   ]
  },
  {
   "cell_type": "markdown",
   "id": "c90706b2",
   "metadata": {},
   "source": [
    "no missing values "
   ]
  },
  {
   "cell_type": "code",
   "execution_count": 6,
   "id": "a6ef2b43",
   "metadata": {},
   "outputs": [
    {
     "data": {
      "text/plain": [
       "<AxesSubplot:xlabel='Sentiment', ylabel='count'>"
      ]
     },
     "execution_count": 6,
     "metadata": {},
     "output_type": "execute_result"
    },
    {
     "data": {
      "image/png": "[encoded data removed]",
      "text/plain": [
       "<Figure size 640x480 with 1 Axes>"
      ]
     },
     "metadata": {},
     "output_type": "display_data"
    }
   ],
   "source": [
    "import seaborn as sns\n",
    "sns.countplot(x = \"Sentiment\", data = df)"
   ]
  },
  {
   "cell_type": "code",
   "execution_count": 7,
   "id": "81142274",
   "metadata": {},
   "outputs": [
    {
     "data": {
      "text/plain": [
       "pos    1000\n",
       "neg    1000\n",
       "Name: Sentiment, dtype: int64"
      ]
     },
     "execution_count": 7,
     "metadata": {},
     "output_type": "execute_result"
    }
   ],
   "source": [
    "df[\"Sentiment\"].value_counts()"
   ]
  },
  {
   "cell_type": "code",
   "execution_count": 8,
   "id": "5ac1f802",
   "metadata": {},
   "outputs": [],
   "source": [
    "df.reset_index(inplace=True, drop=True)"
   ]
  },
  {
   "cell_type": "markdown",
   "id": "ef9b91ee",
   "metadata": {},
   "source": [
    "# Text Pre-processing "
   ]
  },
  {
   "cell_type": "code",
   "execution_count": 9,
   "id": "84e16594",
   "metadata": {
    "scrolled": true
   },
   "outputs": [
    {
     "data": {
      "text/html": [
       "<div>\n",
       "<style scoped>\n",
       "    .dataframe tbody tr th:only-of-type {\n",
       "        vertical-align: middle;\n",
       "    }\n",
       "\n",
       "    .dataframe tbody tr th {\n",
       "        vertical-align: top;\n",
       "    }\n",
       "\n",
       "    .dataframe thead th {\n",
       "        text-align: right;\n",
       "    }\n",
       "</style>\n",
       "<table border=\"1\" class=\"dataframe\">\n",
       "  <thead>\n",
       "    <tr style=\"text-align: right;\">\n",
       "      <th></th>\n",
       "      <th>Comment</th>\n",
       "      <th>Sentiment</th>\n",
       "    </tr>\n",
       "  </thead>\n",
       "  <tbody>\n",
       "    <tr>\n",
       "      <th>0</th>\n",
       "      <td>\"Qaçaq\" yəqin ki, indiyə qədər çəkilmiş ən böy...</td>\n",
       "      <td>pos</td>\n",
       "    </tr>\n",
       "    <tr>\n",
       "      <th>1</th>\n",
       "      <td>Bu film mick jaggerin abe lincoln saqqalı ilə ...</td>\n",
       "      <td>neg</td>\n",
       "    </tr>\n",
       "    <tr>\n",
       "      <th>2</th>\n",
       "      <td>süjet: iki yeniyetmə cütlük kilsə ziyafətinə g...</td>\n",
       "      <td>neg</td>\n",
       "    </tr>\n",
       "    <tr>\n",
       "      <th>3</th>\n",
       "      <td>gözləntilərinizi necə məğlub edə biləcəyiniz g...</td>\n",
       "      <td>neg</td>\n",
       "    </tr>\n",
       "    <tr>\n",
       "      <th>4</th>\n",
       "      <td>Dennis Rodmanın əslində bu planetdən olub-olma...</td>\n",
       "      <td>pos</td>\n",
       "    </tr>\n",
       "  </tbody>\n",
       "</table>\n",
       "</div>"
      ],
      "text/plain": [
       "                                             Comment Sentiment\n",
       "0  \"Qaçaq\" yəqin ki, indiyə qədər çəkilmiş ən böy...       pos\n",
       "1  Bu film mick jaggerin abe lincoln saqqalı ilə ...       neg\n",
       "2  süjet: iki yeniyetmə cütlük kilsə ziyafətinə g...       neg\n",
       "3  gözləntilərinizi necə məğlub edə biləcəyiniz g...       neg\n",
       "4  Dennis Rodmanın əslində bu planetdən olub-olma...       pos"
      ]
     },
     "execution_count": 9,
     "metadata": {},
     "output_type": "execute_result"
    }
   ],
   "source": [
    "df.head()"
   ]
  },
  {
   "cell_type": "code",
   "execution_count": 10,
   "id": "60e41c63",
   "metadata": {},
   "outputs": [],
   "source": [
    "df[\"Comment\"] = df['Comment'].str.replace(\"I\", \"ı\").replace(\"İ\", \"i\") # Because of Azerbaijani alphabet  \n",
    "df[\"Comment\"] = df['Comment'].str.lower()"
   ]
  },
  {
   "cell_type": "markdown",
   "id": "288c3644",
   "metadata": {},
   "source": [
    "Convert all words into the lower case "
   ]
  },
  {
   "cell_type": "code",
   "execution_count": 11,
   "id": "f83b2c43",
   "metadata": {
    "scrolled": true
   },
   "outputs": [
    {
     "data": {
      "text/html": [
       "<div>\n",
       "<style scoped>\n",
       "    .dataframe tbody tr th:only-of-type {\n",
       "        vertical-align: middle;\n",
       "    }\n",
       "\n",
       "    .dataframe tbody tr th {\n",
       "        vertical-align: top;\n",
       "    }\n",
       "\n",
       "    .dataframe thead th {\n",
       "        text-align: right;\n",
       "    }\n",
       "</style>\n",
       "<table border=\"1\" class=\"dataframe\">\n",
       "  <thead>\n",
       "    <tr style=\"text-align: right;\">\n",
       "      <th></th>\n",
       "      <th>Comment</th>\n",
       "      <th>Sentiment</th>\n",
       "    </tr>\n",
       "  </thead>\n",
       "  <tbody>\n",
       "    <tr>\n",
       "      <th>0</th>\n",
       "      <td>\"qaçaq\" yəqin ki, indiyə qədər çəkilmiş ən böy...</td>\n",
       "      <td>pos</td>\n",
       "    </tr>\n",
       "    <tr>\n",
       "      <th>1</th>\n",
       "      <td>bu film mick jaggerin abe lincoln saqqalı ilə ...</td>\n",
       "      <td>neg</td>\n",
       "    </tr>\n",
       "    <tr>\n",
       "      <th>2</th>\n",
       "      <td>süjet: iki yeniyetmə cütlük kilsə ziyafətinə g...</td>\n",
       "      <td>neg</td>\n",
       "    </tr>\n",
       "    <tr>\n",
       "      <th>3</th>\n",
       "      <td>gözləntilərinizi necə məğlub edə biləcəyiniz g...</td>\n",
       "      <td>neg</td>\n",
       "    </tr>\n",
       "    <tr>\n",
       "      <th>4</th>\n",
       "      <td>dennis rodmanın əslində bu planetdən olub-olma...</td>\n",
       "      <td>pos</td>\n",
       "    </tr>\n",
       "  </tbody>\n",
       "</table>\n",
       "</div>"
      ],
      "text/plain": [
       "                                             Comment Sentiment\n",
       "0  \"qaçaq\" yəqin ki, indiyə qədər çəkilmiş ən böy...       pos\n",
       "1  bu film mick jaggerin abe lincoln saqqalı ilə ...       neg\n",
       "2  süjet: iki yeniyetmə cütlük kilsə ziyafətinə g...       neg\n",
       "3  gözləntilərinizi necə məğlub edə biləcəyiniz g...       neg\n",
       "4  dennis rodmanın əslində bu planetdən olub-olma...       pos"
      ]
     },
     "execution_count": 11,
     "metadata": {},
     "output_type": "execute_result"
    }
   ],
   "source": [
    "df.head()"
   ]
  },
  {
   "cell_type": "markdown",
   "id": "15202a01",
   "metadata": {},
   "source": [
    "###  Breake a sentence into individual words"
   ]
  },
  {
   "cell_type": "code",
   "execution_count": 12,
   "id": "d0691bc9",
   "metadata": {},
   "outputs": [],
   "source": [
    "# Tokenization\n",
    "def tokenize_sentence_into_words(string):\n",
    "    str_SEN = \"\"\n",
    "    str_ = \"\"\n",
    "    string = string.strip()\n",
    "    len_str = len(string)\n",
    "    string += ' '\n",
    "    char_index = -1\n",
    "    for char in string:\n",
    "        char_index += 1\n",
    "        dot_sep = (char == \".\" and char_index != len_str - 1)\n",
    "\n",
    "        if char.isnumeric() or char.isalpha() or char == \"-\" or char == \"–\" or dot_sep:\n",
    "\n",
    "            str_ += char\n",
    "\n",
    "        else:\n",
    "            if str_ != \"\":\n",
    "                str_SEN += str_ + \" \"\n",
    "                str_ = \"\"\n",
    "            if char != \" \":\n",
    "                str_SEN += char + \" \"\n",
    "    final_str = \"\"\n",
    "    for word in str_SEN.strip().split():\n",
    "        final_str += word.strip(\",.\") + \" \"\n",
    "    return \" \".join(final_str.strip().split())"
   ]
  },
  {
   "cell_type": "code",
   "execution_count": 13,
   "id": "699af300",
   "metadata": {},
   "outputs": [],
   "source": [
    "import string"
   ]
  },
  {
   "cell_type": "code",
   "execution_count": 14,
   "id": "3e256dd6",
   "metadata": {},
   "outputs": [
    {
     "data": {
      "text/plain": [
       "'!\"#$%&\\'()*+,-./:;<=>?@[\\\\]^_`{|}~'"
      ]
     },
     "execution_count": 14,
     "metadata": {},
     "output_type": "execute_result"
    }
   ],
   "source": [
    "string.punctuation"
   ]
  },
  {
   "cell_type": "code",
   "execution_count": 15,
   "id": "2b3f3212",
   "metadata": {},
   "outputs": [],
   "source": [
    "translator=str.maketrans('','',string.punctuation)\n",
    "df[\"Comment\"]=df[\"Comment\"].str.translate(translator)"
   ]
  },
  {
   "cell_type": "code",
   "execution_count": 16,
   "id": "a9b1c8d1",
   "metadata": {},
   "outputs": [
    {
     "data": {
      "text/plain": [
       "'qaçaq yəqin ki indiyə qədər çəkilmiş ən böyük trillerlərdən biridirrealist inandırıcı personajlar alır və bütün boyu inandırıcı olan həyəcan verici bir hekayə danışırbu hərəkət naminə ən yüksək səviyyəli hərəkət filmi deyil bu əsl sirr hissi ilə ağıllı bir macəra hekayəsidir və mükəmməl işləyirharrison ford ulduzları dr richard kimbl arvadını öldürməkdə haqsız yerə günahlandırılan və məhkum edilən bir adamhekayənin bütün əsası bu qətl ətrafında cərəyan edir lakin düz bir şəkildə deyilmirkimblin nöqteyinəzərindən cinayətə davamlı olaraq geri dönüşlər görürükgecənin müxtəlif vaxtlarından atılan ipuçları kimblenin həyat yoldaşı helen  sela koğuş  öldürüldühekayənin çox uzağına qədər qatilin kim olduğunu görə bilmirikəslində  hətta özümüz də kimblin günahsızlığına bir az da şübhəmiz ola bilər film hekayənin mahiyyəti olmadığı üçün kimblenin mühakiməsi və məhkum edilməsinin təfərrüatlarına çox vaxt sərf etmirən böyük fəaliyyət səhnələrindən biri onun məhbus yoldaşları tərəfindən fantastik bir qatar qəzasına səbəb olan uğursuz qaçış cəhdi aldığımız zaman baş veriramma heç də təmənnasız və ya tərtib edilmiş görünmür əslində izləmək təlaş doğururbu film o qədər inanılmazdır ki bu kimi elementləri götürüb onları tamamilə orijinal və inandırıcı edə bilirtommy lee jones az qala deputat sam gerard a u kimi şou oğurlayır s  qaçaqları ovlamaqda mütəxəssis olan marşalo göründüyü andan etibarən biz bilirik ki nəhəng bir pişik və siçan oyunu baş verəcəkkimble və gerard eyni dərəcədə uyğundur çünki birinin digərini necə qabaqlayacağını söyləmək üçün heç bir yol yoxdurfilmin əksəriyyəti riçardın arvadını öldürən tək silahlı kişini tapmağa çalışdığı mürəkkəb araşdırmasından bəhs edirfordun burada çoxlu sətirləri yoxdur ona görə də filmi olduğu qədər möhtəşəm edən stüart və twohinin ssenarisi və devisin görkəmli rejissorluğudurriçardın kəskin zəkasını və zəkasını necə istifadə etdiyini maskalanmasını və öz detektiv işini görməsi çox maraqlıdırarvadının niyə öldürüldüyünü onun bildiyi qədər az bilirik o da öyrəndikcə biz də bilirikbu arada gerard və onun işçiləri onu ovlamaq üçün bütün bacarıqlarından istifadə edirlərbir anda onlar birbiri ilə qarşılaşır və böyük bir təqib baş verir lakin riçard onlar üçün çox ağıllıdırgünahsızlığını göstərmək və sirri həll etmək üçün cerard üçün ipuçları buraxırfilmin ən böyük cazibələrindən biri onun yumor hissidirgerard və onun iki ən yaxın müavini kosmo renfo pantoliano və biggs roebuck arasında böyük yoldaşlıq hissi varonlar təhlükəli qatil olduğuna inandıqları şeyi tutmağa çalışırlar amma yenə də birbirləri ilə daima kiçik söhbətlərə başlayırlar məzəli hiylələr və təktək fikirlər söyləyirlər lakin heç bir yayındırıcı şəkildə deyilfinal aktı daha bir dəhşətli təqiblə başa çatırrichard qatilin kim olduğunu müəyyənləşdirir və onunla qarşılaşır və tipik bir döyüş səhnəsi alsaq da iş hələ də həll olunmurqətli sifariş edən adam başdanbaşa burnumuzun dibində olub və biz bunu sona qədər riçard və cerard parçaları birləşdirəndə anlamırıqbəlkə də son səhnə bir az çox olsa da yenə də inandırıcı atmosferi varədalət bərqərar olanda çox rahatlayırıqqaçaqı möhtəşəm edən süjet deyil qəhrəmanların maraqlı bir hekayə yaratmaq üçün keçdikləri bütün hərəkətlərdirgörünən odur ki adi bir insanın bu qədər çox şeydən keçdiyini izləmək filmi macəralı edirkaş hollivud daha çox belə filmlər istehsal edə bilsəydi  311096   29 197   13697  həmçinin bax  zaman ləqəbi '"
      ]
     },
     "execution_count": 16,
     "metadata": {},
     "output_type": "execute_result"
    }
   ],
   "source": [
    "df[\"Comment\"][0]"
   ]
  },
  {
   "cell_type": "code",
   "execution_count": 17,
   "id": "8af0f550",
   "metadata": {},
   "outputs": [],
   "source": [
    "df.reset_index(inplace=True, drop=True)"
   ]
  },
  {
   "cell_type": "code",
   "execution_count": 18,
   "id": "571da2fc",
   "metadata": {},
   "outputs": [],
   "source": [
    "for i in range(df.shape[0]):\n",
    "    if df[\"Comment\"][i] != str(df[\"Comment\"][i]):\n",
    "        continue\n",
    "    df.at[i, \"Comment\"] = tokenize_sentence_into_words(df[\"Comment\"][i])"
   ]
  },
  {
   "cell_type": "code",
   "execution_count": 19,
   "id": "aa896207",
   "metadata": {},
   "outputs": [
    {
     "data": {
      "text/html": [
       "<div>\n",
       "<style scoped>\n",
       "    .dataframe tbody tr th:only-of-type {\n",
       "        vertical-align: middle;\n",
       "    }\n",
       "\n",
       "    .dataframe tbody tr th {\n",
       "        vertical-align: top;\n",
       "    }\n",
       "\n",
       "    .dataframe thead th {\n",
       "        text-align: right;\n",
       "    }\n",
       "</style>\n",
       "<table border=\"1\" class=\"dataframe\">\n",
       "  <thead>\n",
       "    <tr style=\"text-align: right;\">\n",
       "      <th></th>\n",
       "      <th>Comment</th>\n",
       "      <th>Sentiment</th>\n",
       "    </tr>\n",
       "  </thead>\n",
       "  <tbody>\n",
       "    <tr>\n",
       "      <th>0</th>\n",
       "      <td>qaçaq yəqin ki indiyə qədər çəkilmiş ən böyük ...</td>\n",
       "      <td>pos</td>\n",
       "    </tr>\n",
       "    <tr>\n",
       "      <th>1</th>\n",
       "      <td>bu film mick jaggerin abe lincoln saqqalı ilə ...</td>\n",
       "      <td>neg</td>\n",
       "    </tr>\n",
       "    <tr>\n",
       "      <th>2</th>\n",
       "      <td>süjet iki yeniyetmə cütlük kilsə ziyafətinə ge...</td>\n",
       "      <td>neg</td>\n",
       "    </tr>\n",
       "    <tr>\n",
       "      <th>3</th>\n",
       "      <td>gözləntilərinizi necə məğlub edə biləcəyiniz g...</td>\n",
       "      <td>neg</td>\n",
       "    </tr>\n",
       "    <tr>\n",
       "      <th>4</th>\n",
       "      <td>dennis rodmanın əslində bu planetdən olubolmad...</td>\n",
       "      <td>pos</td>\n",
       "    </tr>\n",
       "    <tr>\n",
       "      <th>5</th>\n",
       "      <td>i ̇ cazə verin mən peşəkar güləşin böyük pərəs...</td>\n",
       "      <td>neg</td>\n",
       "    </tr>\n",
       "    <tr>\n",
       "      <th>6</th>\n",
       "      <td>touchstone pictures və spyglass əyləncə jackie...</td>\n",
       "      <td>pos</td>\n",
       "    </tr>\n",
       "    <tr>\n",
       "      <th>7</th>\n",
       "      <td>bu günlərdə köhnə kult televiziya şouları əsas...</td>\n",
       "      <td>neg</td>\n",
       "    </tr>\n",
       "    <tr>\n",
       "      <th>8</th>\n",
       "      <td>kaş ki müasir dünyada iman və əxlaq məsələləri...</td>\n",
       "      <td>neg</td>\n",
       "    </tr>\n",
       "    <tr>\n",
       "      <th>9</th>\n",
       "      <td>qızdırmalı tənqidi bağışla amma pota şövqü yol...</td>\n",
       "      <td>neg</td>\n",
       "    </tr>\n",
       "  </tbody>\n",
       "</table>\n",
       "</div>"
      ],
      "text/plain": [
       "                                             Comment Sentiment\n",
       "0  qaçaq yəqin ki indiyə qədər çəkilmiş ən böyük ...       pos\n",
       "1  bu film mick jaggerin abe lincoln saqqalı ilə ...       neg\n",
       "2  süjet iki yeniyetmə cütlük kilsə ziyafətinə ge...       neg\n",
       "3  gözləntilərinizi necə məğlub edə biləcəyiniz g...       neg\n",
       "4  dennis rodmanın əslində bu planetdən olubolmad...       pos\n",
       "5  i ̇ cazə verin mən peşəkar güləşin böyük pərəs...       neg\n",
       "6  touchstone pictures və spyglass əyləncə jackie...       pos\n",
       "7  bu günlərdə köhnə kult televiziya şouları əsas...       neg\n",
       "8  kaş ki müasir dünyada iman və əxlaq məsələləri...       neg\n",
       "9  qızdırmalı tənqidi bağışla amma pota şövqü yol...       neg"
      ]
     },
     "execution_count": 19,
     "metadata": {},
     "output_type": "execute_result"
    }
   ],
   "source": [
    "df.head(10)"
   ]
  },
  {
   "cell_type": "code",
   "execution_count": 20,
   "id": "1555f49e",
   "metadata": {},
   "outputs": [],
   "source": [
    "df['Comment'] = df['Comment'].values.astype('str')"
   ]
  },
  {
   "cell_type": "code",
   "execution_count": 21,
   "id": "9bc62729",
   "metadata": {},
   "outputs": [
    {
     "data": {
      "text/plain": [
       "0       qaçaq yəqin ki indiyə qədər çəkilmiş ən böyük ...\n",
       "1       bu film mick jaggerin abe lincoln saqqalı ilə ...\n",
       "2       süjet iki yeniyetmə cütlük kilsə ziyafətinə ge...\n",
       "3       gözləntilərinizi necə məğlub edə biləcəyiniz g...\n",
       "4       dennis rodmanın əslində bu planetdən olubolmad...\n",
       "                              ...                        \n",
       "1995    rejissor stiven zaillian əvvəllər 1993cü ildə ...\n",
       "1996    qaralı adamlar elmi fantastika hərəkət və kome...\n",
       "1997    sümüyə çalın ron şeltonun idman temalı repertu...\n",
       "1998    “ şeytan məni nə vaxt aparacaq ” o ritorik ola...\n",
       "1999    qaraağac küçəsində kabus seriyasına ilk dəfə m...\n",
       "Name: Comment, Length: 2000, dtype: object"
      ]
     },
     "execution_count": 21,
     "metadata": {},
     "output_type": "execute_result"
    }
   ],
   "source": [
    "df['Comment']"
   ]
  },
  {
   "cell_type": "markdown",
   "id": "bd4976f7",
   "metadata": {},
   "source": [
    "# NaiveBayes with CountVectorizer (Representing the string in numerical form)"
   ]
  },
  {
   "cell_type": "code",
   "execution_count": 22,
   "id": "a4cc6b30",
   "metadata": {},
   "outputs": [],
   "source": [
    "from sklearn.feature_extraction.text import CountVectorizer, TfidfVectorizer\n",
    "from sklearn.naive_bayes import GaussianNB\n",
    "from sklearn.naive_bayes import MultinomialNB\n",
    "from sklearn.pipeline import Pipeline"
   ]
  },
  {
   "cell_type": "code",
   "execution_count": 23,
   "id": "ec5b2880",
   "metadata": {},
   "outputs": [],
   "source": [
    "text_clf = Pipeline(steps=[('vec',\n",
    "                 CountVectorizer(analyzer='char_wb', ngram_range=(3, 4))),\n",
    "                ('clf', MultinomialNB())])"
   ]
  },
  {
   "cell_type": "code",
   "execution_count": 24,
   "id": "74cc1fa7",
   "metadata": {},
   "outputs": [],
   "source": [
    "from sklearn.model_selection import train_test_split\n",
    "x_train,x_test,y_train,y_test = train_test_split(df['Comment'], df['Sentiment'],test_size = 0.2,random_state = 42)\n"
   ]
  },
  {
   "cell_type": "code",
   "execution_count": 25,
   "id": "329d0b2b",
   "metadata": {},
   "outputs": [
    {
     "data": {
      "text/html": [
       "<style>#sk-container-id-1 {color: black;}#sk-container-id-1 pre{padding: 0;}#sk-container-id-1 div.sk-toggleable {background-color: white;}#sk-container-id-1 label.sk-toggleable__label {cursor: pointer;display: block;width: 100%;margin-bottom: 0;padding: 0.3em;box-sizing: border-box;text-align: center;}#sk-container-id-1 label.sk-toggleable__label-arrow:before {content: \"▸\";float: left;margin-right: 0.25em;color: #696969;}#sk-container-id-1 label.sk-toggleable__label-arrow:hover:before {color: black;}#sk-container-id-1 div.sk-estimator:hover label.sk-toggleable__label-arrow:before {color: black;}#sk-container-id-1 div.sk-toggleable__content {max-height: 0;max-width: 0;overflow: hidden;text-align: left;background-color: #f0f8ff;}#sk-container-id-1 div.sk-toggleable__content pre {margin: 0.2em;color: black;border-radius: 0.25em;background-color: #f0f8ff;}#sk-container-id-1 input.sk-toggleable__control:checked~div.sk-toggleable__content {max-height: 200px;max-width: 100%;overflow: auto;}#sk-container-id-1 input.sk-toggleable__control:checked~label.sk-toggleable__label-arrow:before {content: \"▾\";}#sk-container-id-1 div.sk-estimator input.sk-toggleable__control:checked~label.sk-toggleable__label {background-color: #d4ebff;}#sk-container-id-1 div.sk-label input.sk-toggleable__control:checked~label.sk-toggleable__label {background-color: #d4ebff;}#sk-container-id-1 input.sk-hidden--visually {border: 0;clip: rect(1px 1px 1px 1px);clip: rect(1px, 1px, 1px, 1px);height: 1px;margin: -1px;overflow: hidden;padding: 0;position: absolute;width: 1px;}#sk-container-id-1 div.sk-estimator {font-family: monospace;background-color: #f0f8ff;border: 1px dotted black;border-radius: 0.25em;box-sizing: border-box;margin-bottom: 0.5em;}#sk-container-id-1 div.sk-estimator:hover {background-color: #d4ebff;}#sk-container-id-1 div.sk-parallel-item::after {content: \"\";width: 100%;border-bottom: 1px solid gray;flex-grow: 1;}#sk-container-id-1 div.sk-label:hover label.sk-toggleable__label {background-color: #d4ebff;}#sk-container-id-1 div.sk-serial::before {content: \"\";position: absolute;border-left: 1px solid gray;box-sizing: border-box;top: 0;bottom: 0;left: 50%;z-index: 0;}#sk-container-id-1 div.sk-serial {display: flex;flex-direction: column;align-items: center;background-color: white;padding-right: 0.2em;padding-left: 0.2em;position: relative;}#sk-container-id-1 div.sk-item {position: relative;z-index: 1;}#sk-container-id-1 div.sk-parallel {display: flex;align-items: stretch;justify-content: center;background-color: white;position: relative;}#sk-container-id-1 div.sk-item::before, #sk-container-id-1 div.sk-parallel-item::before {content: \"\";position: absolute;border-left: 1px solid gray;box-sizing: border-box;top: 0;bottom: 0;left: 50%;z-index: -1;}#sk-container-id-1 div.sk-parallel-item {display: flex;flex-direction: column;z-index: 1;position: relative;background-color: white;}#sk-container-id-1 div.sk-parallel-item:first-child::after {align-self: flex-end;width: 50%;}#sk-container-id-1 div.sk-parallel-item:last-child::after {align-self: flex-start;width: 50%;}#sk-container-id-1 div.sk-parallel-item:only-child::after {width: 0;}#sk-container-id-1 div.sk-dashed-wrapped {border: 1px dashed gray;margin: 0 0.4em 0.5em 0.4em;box-sizing: border-box;padding-bottom: 0.4em;background-color: white;}#sk-container-id-1 div.sk-label label {font-family: monospace;font-weight: bold;display: inline-block;line-height: 1.2em;}#sk-container-id-1 div.sk-label-container {text-align: center;}#sk-container-id-1 div.sk-container {/* jupyter's `normalize.less` sets `[hidden] { display: none; }` but bootstrap.min.css set `[hidden] { display: none !important; }` so we also need the `!important` here to be able to override the default hidden behavior on the sphinx rendered scikit-learn.org. See: https://github.com/scikit-learn/scikit-learn/issues/21755 */display: inline-block !important;position: relative;}#sk-container-id-1 div.sk-text-repr-fallback {display: none;}</style><div id=\"sk-container-id-1\" class=\"sk-top-container\"><div class=\"sk-text-repr-fallback\"><pre>Pipeline(steps=[(&#x27;vec&#x27;,\n",
       "                 CountVectorizer(analyzer=&#x27;char_wb&#x27;, ngram_range=(3, 4))),\n",
       "                (&#x27;clf&#x27;, MultinomialNB())])</pre><b>In a Jupyter environment, please rerun this cell to show the HTML representation or trust the notebook. <br />On GitHub, the HTML representation is unable to render, please try loading this page with nbviewer.org.</b></div><div class=\"sk-container\" hidden><div class=\"sk-item sk-dashed-wrapped\"><div class=\"sk-label-container\"><div class=\"sk-label sk-toggleable\"><input class=\"sk-toggleable__control sk-hidden--visually\" id=\"sk-estimator-id-1\" type=\"checkbox\" ><label for=\"sk-estimator-id-1\" class=\"sk-toggleable__label sk-toggleable__label-arrow\">Pipeline</label><div class=\"sk-toggleable__content\"><pre>Pipeline(steps=[(&#x27;vec&#x27;,\n",
       "                 CountVectorizer(analyzer=&#x27;char_wb&#x27;, ngram_range=(3, 4))),\n",
       "                (&#x27;clf&#x27;, MultinomialNB())])</pre></div></div></div><div class=\"sk-serial\"><div class=\"sk-item\"><div class=\"sk-estimator sk-toggleable\"><input class=\"sk-toggleable__control sk-hidden--visually\" id=\"sk-estimator-id-2\" type=\"checkbox\" ><label for=\"sk-estimator-id-2\" class=\"sk-toggleable__label sk-toggleable__label-arrow\">CountVectorizer</label><div class=\"sk-toggleable__content\"><pre>CountVectorizer(analyzer=&#x27;char_wb&#x27;, ngram_range=(3, 4))</pre></div></div></div><div class=\"sk-item\"><div class=\"sk-estimator sk-toggleable\"><input class=\"sk-toggleable__control sk-hidden--visually\" id=\"sk-estimator-id-3\" type=\"checkbox\" ><label for=\"sk-estimator-id-3\" class=\"sk-toggleable__label sk-toggleable__label-arrow\">MultinomialNB</label><div class=\"sk-toggleable__content\"><pre>MultinomialNB()</pre></div></div></div></div></div></div></div>"
      ],
      "text/plain": [
       "Pipeline(steps=[('vec',\n",
       "                 CountVectorizer(analyzer='char_wb', ngram_range=(3, 4))),\n",
       "                ('clf', MultinomialNB())])"
      ]
     },
     "execution_count": 25,
     "metadata": {},
     "output_type": "execute_result"
    }
   ],
   "source": [
    "text_clf.fit(x_train, y_train)"
   ]
  },
  {
   "cell_type": "markdown",
   "id": "61f98b78",
   "metadata": {},
   "source": [
    "# Prediction"
   ]
  },
  {
   "cell_type": "code",
   "execution_count": 26,
   "id": "adbce1da",
   "metadata": {},
   "outputs": [
    {
     "data": {
      "text/plain": [
       "array(['neg'], dtype='<U3')"
      ]
     },
     "execution_count": 26,
     "metadata": {},
     "output_type": "execute_result"
    }
   ],
   "source": [
    "text_clf.predict([\"bu çox pis videodur\"])"
   ]
  },
  {
   "cell_type": "code",
   "execution_count": 27,
   "id": "4e61ea8f",
   "metadata": {},
   "outputs": [
    {
     "data": {
      "text/plain": [
       "array(['pos'], dtype='<U3')"
      ]
     },
     "execution_count": 27,
     "metadata": {},
     "output_type": "execute_result"
    }
   ],
   "source": [
    "text_clf.predict([\"bu əladi\"])"
   ]
  },
  {
   "cell_type": "code",
   "execution_count": 28,
   "id": "0b596da9",
   "metadata": {},
   "outputs": [
    {
     "data": {
      "text/plain": [
       "array(['neg'], dtype='<U3')"
      ]
     },
     "execution_count": 28,
     "metadata": {},
     "output_type": "execute_result"
    }
   ],
   "source": [
    "text_clf.predict([\"bu programda problem var\"])"
   ]
  },
  {
   "cell_type": "markdown",
   "id": "5bd8e555",
   "metadata": {},
   "source": [
    "# Scoring "
   ]
  },
  {
   "cell_type": "code",
   "execution_count": 29,
   "id": "6580b9fb",
   "metadata": {},
   "outputs": [
    {
     "data": {
      "text/plain": [
       "0.955"
      ]
     },
     "execution_count": 29,
     "metadata": {},
     "output_type": "execute_result"
    }
   ],
   "source": [
    "text_clf.score(x_train,y_train)"
   ]
  },
  {
   "cell_type": "code",
   "execution_count": 30,
   "id": "7b74de42",
   "metadata": {},
   "outputs": [
    {
     "data": {
      "text/plain": [
       "0.8225"
      ]
     },
     "execution_count": 30,
     "metadata": {},
     "output_type": "execute_result"
    }
   ],
   "source": [
    "text_clf.score(x_test,y_test) # Accuracy"
   ]
  },
  {
   "cell_type": "code",
   "execution_count": 31,
   "id": "560013a8",
   "metadata": {},
   "outputs": [],
   "source": [
    "y_pred = text_clf.predict(x_test)"
   ]
  },
  {
   "cell_type": "code",
   "execution_count": 32,
   "id": "28065b9d",
   "metadata": {},
   "outputs": [
    {
     "data": {
      "text/plain": [
       "array(['pos', 'pos', 'neg', 'neg', 'neg', 'neg', 'neg', 'neg', 'neg',\n",
       "       'neg', 'neg', 'neg', 'neg', 'pos', 'pos', 'pos', 'neg', 'neg',\n",
       "       'pos', 'neg', 'pos', 'pos', 'neg', 'pos', 'pos', 'pos', 'pos',\n",
       "       'pos', 'neg', 'pos', 'pos', 'pos', 'pos', 'pos', 'pos', 'pos',\n",
       "       'neg', 'neg', 'neg', 'neg', 'pos', 'neg', 'neg', 'pos', 'pos',\n",
       "       'pos', 'neg', 'neg', 'neg', 'neg', 'neg', 'neg', 'neg', 'neg',\n",
       "       'neg', 'pos', 'pos', 'pos', 'neg', 'pos', 'neg', 'neg', 'pos',\n",
       "       'pos', 'neg', 'neg', 'pos', 'neg', 'pos', 'neg', 'pos', 'pos',\n",
       "       'neg', 'pos', 'pos', 'pos', 'pos', 'neg', 'neg', 'neg', 'pos',\n",
       "       'neg', 'neg', 'pos', 'pos', 'neg', 'neg', 'pos', 'neg', 'pos',\n",
       "       'pos', 'pos', 'pos', 'neg', 'pos', 'pos', 'neg', 'pos', 'neg',\n",
       "       'pos', 'pos', 'neg', 'neg', 'neg', 'pos', 'pos', 'neg', 'neg',\n",
       "       'pos', 'neg', 'neg', 'pos', 'neg', 'neg', 'pos', 'pos', 'pos',\n",
       "       'pos', 'pos', 'pos', 'neg', 'neg', 'neg', 'neg', 'neg', 'neg',\n",
       "       'neg', 'pos', 'neg', 'neg', 'neg', 'neg', 'pos', 'pos', 'neg',\n",
       "       'neg', 'pos', 'neg', 'pos', 'neg', 'neg', 'pos', 'neg', 'neg',\n",
       "       'neg', 'neg', 'neg', 'pos', 'neg', 'pos', 'pos', 'pos', 'pos',\n",
       "       'pos', 'pos', 'neg', 'pos', 'neg', 'pos', 'pos', 'pos', 'neg',\n",
       "       'neg', 'pos', 'neg', 'neg', 'neg', 'pos', 'pos', 'neg', 'pos',\n",
       "       'neg', 'neg', 'pos', 'pos', 'pos', 'pos', 'neg', 'neg', 'neg',\n",
       "       'pos', 'neg', 'neg', 'pos', 'neg', 'neg', 'pos', 'neg', 'pos',\n",
       "       'pos', 'neg', 'neg', 'pos', 'neg', 'pos', 'pos', 'neg', 'pos',\n",
       "       'pos', 'neg', 'pos', 'neg', 'neg', 'neg', 'neg', 'neg', 'pos',\n",
       "       'pos', 'pos', 'neg', 'neg', 'neg', 'pos', 'neg', 'neg', 'neg',\n",
       "       'neg', 'neg', 'pos', 'neg', 'neg', 'neg', 'neg', 'pos', 'pos',\n",
       "       'neg', 'pos', 'neg', 'pos', 'pos', 'neg', 'neg', 'pos', 'pos',\n",
       "       'pos', 'pos', 'pos', 'pos', 'neg', 'pos', 'neg', 'neg', 'pos',\n",
       "       'pos', 'pos', 'neg', 'pos', 'pos', 'neg', 'pos', 'pos', 'neg',\n",
       "       'neg', 'pos', 'neg', 'pos', 'pos', 'pos', 'neg', 'pos', 'neg',\n",
       "       'pos', 'neg', 'pos', 'pos', 'pos', 'pos', 'pos', 'pos', 'neg',\n",
       "       'pos', 'pos', 'neg', 'pos', 'pos', 'pos', 'pos', 'pos', 'neg',\n",
       "       'pos', 'neg', 'pos', 'neg', 'pos', 'pos', 'neg', 'neg', 'pos',\n",
       "       'neg', 'neg', 'neg', 'neg', 'neg', 'pos', 'pos', 'pos', 'pos',\n",
       "       'pos', 'pos', 'neg', 'neg', 'pos', 'neg', 'pos', 'pos', 'pos',\n",
       "       'neg', 'neg', 'pos', 'pos', 'pos', 'neg', 'pos', 'pos', 'neg',\n",
       "       'pos', 'neg', 'pos', 'pos', 'neg', 'neg', 'neg', 'pos', 'pos',\n",
       "       'neg', 'pos', 'pos', 'neg', 'neg', 'pos', 'neg', 'pos', 'neg',\n",
       "       'neg', 'neg', 'neg', 'pos', 'neg', 'neg', 'neg', 'pos', 'neg',\n",
       "       'neg', 'pos', 'pos', 'pos', 'neg', 'pos', 'neg', 'pos', 'pos',\n",
       "       'neg', 'pos', 'neg', 'neg', 'pos', 'neg', 'pos', 'pos', 'pos',\n",
       "       'pos', 'neg', 'neg', 'neg', 'neg', 'pos', 'neg', 'neg', 'neg',\n",
       "       'pos', 'pos', 'pos', 'pos', 'neg', 'neg', 'neg', 'neg', 'neg',\n",
       "       'neg', 'pos', 'pos', 'pos', 'pos', 'neg', 'neg', 'neg', 'pos',\n",
       "       'neg', 'pos', 'neg', 'neg', 'pos', 'pos', 'neg', 'pos', 'pos',\n",
       "       'pos', 'neg', 'pos', 'neg'], dtype='<U3')"
      ]
     },
     "execution_count": 32,
     "metadata": {},
     "output_type": "execute_result"
    }
   ],
   "source": [
    "y_pred"
   ]
  },
  {
   "cell_type": "code",
   "execution_count": 33,
   "id": "e58ae6bd",
   "metadata": {},
   "outputs": [
    {
     "name": "stdout",
     "output_type": "stream",
     "text": [
      "              precision    recall  f1-score   support\n",
      "\n",
      "         neg       0.82      0.82      0.82       201\n",
      "         pos       0.82      0.82      0.82       199\n",
      "\n",
      "    accuracy                           0.82       400\n",
      "   macro avg       0.82      0.82      0.82       400\n",
      "weighted avg       0.82      0.82      0.82       400\n",
      "\n"
     ]
    }
   ],
   "source": [
    "from sklearn.metrics import classification_report\n",
    "print(classification_report(y_test, y_pred))"
   ]
  },
  {
   "cell_type": "markdown",
   "id": "4d321715",
   "metadata": {},
   "source": [
    "# Confusion matrix "
   ]
  },
  {
   "cell_type": "code",
   "execution_count": 34,
   "id": "0570eadd",
   "metadata": {},
   "outputs": [
    {
     "name": "stdout",
     "output_type": "stream",
     "text": [
      "Confusion Matrix:\n",
      "[[165  36]\n",
      " [ 35 164]]\n"
     ]
    },
    {
     "data": {
      "image/png": "[encoded data removed]",
      "text/plain": [
       "<Figure size 640x480 with 2 Axes>"
      ]
     },
     "metadata": {},
     "output_type": "display_data"
    }
   ],
   "source": [
    "from sklearn import metrics\n",
    "from sklearn.metrics import ConfusionMatrixDisplay\n",
    "import matplotlib.pyplot as plt\n",
    "\n",
    "y_pred = text_clf.predict(x_test)\n",
    "\n",
    "confusion_matrix = metrics.confusion_matrix(y_test, y_pred)\n",
    "\n",
    "# Get unique labels from y_test\n",
    "unique_labels = sorted(list(set(y_test)))\n",
    "\n",
    "# Create the ConfusionMatrixDisplay with unique labels\n",
    "cm_display = ConfusionMatrixDisplay(confusion_matrix=confusion_matrix, display_labels=unique_labels)\n",
    "\n",
    "cm_display.plot(cmap=plt.cm.Blues, values_format='d', ax=None)\n",
    "\n",
    "print(\"Confusion Matrix:\")\n",
    "print(confusion_matrix)\n",
    "\n",
    "plt.title(\"Confusion Matrix\")\n",
    "plt.show()\n"
   ]
  },
  {
   "cell_type": "markdown",
   "id": "69834f3b",
   "metadata": {},
   "source": [
    "# Saving to Pickle file "
   ]
  },
  {
   "cell_type": "code",
   "execution_count": 35,
   "id": "e4a096f4",
   "metadata": {},
   "outputs": [],
   "source": [
    "import pickle"
   ]
  },
  {
   "cell_type": "code",
   "execution_count": 36,
   "id": "2f511e73",
   "metadata": {},
   "outputs": [],
   "source": [
    "filename='sentimentanalysiswithNaivebayes.pkl'"
   ]
  },
  {
   "cell_type": "code",
   "execution_count": 37,
   "id": "bb3c706a",
   "metadata": {},
   "outputs": [],
   "source": [
    "with open(filename,'wb') as file:\n",
    "    pickle.dump(text_clf, file)"
   ]
  },
  {
   "cell_type": "markdown",
   "id": "b64ebd22",
   "metadata": {},
   "source": [
    "# Testing Pickle File "
   ]
  },
  {
   "cell_type": "code",
   "execution_count": 38,
   "id": "76a5d0f8",
   "metadata": {},
   "outputs": [],
   "source": [
    "filename='sentimentanalysiswithNaivebayes.pkl'"
   ]
  },
  {
   "cell_type": "code",
   "execution_count": 39,
   "id": "48e4ce12",
   "metadata": {},
   "outputs": [],
   "source": [
    "with open(filename,'rb') as file:\n",
    "    text_clf = pickle.load(file)"
   ]
  },
  {
   "cell_type": "code",
   "execution_count": 40,
   "id": "3fb0a3d0",
   "metadata": {
    "scrolled": true
   },
   "outputs": [
    {
     "data": {
      "text/plain": [
       "array(['neg'], dtype='<U3')"
      ]
     },
     "execution_count": 40,
     "metadata": {},
     "output_type": "execute_result"
    }
   ],
   "source": [
    "text_clf.predict([\"salam. menim akkauntumda  problem var\"])"
   ]
  },
  {
   "cell_type": "markdown",
   "id": "e7547e9f",
   "metadata": {},
   "source": [
    "# SVM and TFidfVectorizer"
   ]
  },
  {
   "cell_type": "code",
   "execution_count": 41,
   "id": "b74de3dc",
   "metadata": {},
   "outputs": [],
   "source": [
    "from sklearn.svm import SVC\n",
    "from sklearn.feature_extraction.text import TfidfVectorizer"
   ]
  },
  {
   "cell_type": "code",
   "execution_count": 42,
   "id": "ad04c120",
   "metadata": {
    "scrolled": false
   },
   "outputs": [
    {
     "data": {
      "text/html": [
       "<style>#sk-container-id-2 {color: black;}#sk-container-id-2 pre{padding: 0;}#sk-container-id-2 div.sk-toggleable {background-color: white;}#sk-container-id-2 label.sk-toggleable__label {cursor: pointer;display: block;width: 100%;margin-bottom: 0;padding: 0.3em;box-sizing: border-box;text-align: center;}#sk-container-id-2 label.sk-toggleable__label-arrow:before {content: \"▸\";float: left;margin-right: 0.25em;color: #696969;}#sk-container-id-2 label.sk-toggleable__label-arrow:hover:before {color: black;}#sk-container-id-2 div.sk-estimator:hover label.sk-toggleable__label-arrow:before {color: black;}#sk-container-id-2 div.sk-toggleable__content {max-height: 0;max-width: 0;overflow: hidden;text-align: left;background-color: #f0f8ff;}#sk-container-id-2 div.sk-toggleable__content pre {margin: 0.2em;color: black;border-radius: 0.25em;background-color: #f0f8ff;}#sk-container-id-2 input.sk-toggleable__control:checked~div.sk-toggleable__content {max-height: 200px;max-width: 100%;overflow: auto;}#sk-container-id-2 input.sk-toggleable__control:checked~label.sk-toggleable__label-arrow:before {content: \"▾\";}#sk-container-id-2 div.sk-estimator input.sk-toggleable__control:checked~label.sk-toggleable__label {background-color: #d4ebff;}#sk-container-id-2 div.sk-label input.sk-toggleable__control:checked~label.sk-toggleable__label {background-color: #d4ebff;}#sk-container-id-2 input.sk-hidden--visually {border: 0;clip: rect(1px 1px 1px 1px);clip: rect(1px, 1px, 1px, 1px);height: 1px;margin: -1px;overflow: hidden;padding: 0;position: absolute;width: 1px;}#sk-container-id-2 div.sk-estimator {font-family: monospace;background-color: #f0f8ff;border: 1px dotted black;border-radius: 0.25em;box-sizing: border-box;margin-bottom: 0.5em;}#sk-container-id-2 div.sk-estimator:hover {background-color: #d4ebff;}#sk-container-id-2 div.sk-parallel-item::after {content: \"\";width: 100%;border-bottom: 1px solid gray;flex-grow: 1;}#sk-container-id-2 div.sk-label:hover label.sk-toggleable__label {background-color: #d4ebff;}#sk-container-id-2 div.sk-serial::before {content: \"\";position: absolute;border-left: 1px solid gray;box-sizing: border-box;top: 0;bottom: 0;left: 50%;z-index: 0;}#sk-container-id-2 div.sk-serial {display: flex;flex-direction: column;align-items: center;background-color: white;padding-right: 0.2em;padding-left: 0.2em;position: relative;}#sk-container-id-2 div.sk-item {position: relative;z-index: 1;}#sk-container-id-2 div.sk-parallel {display: flex;align-items: stretch;justify-content: center;background-color: white;position: relative;}#sk-container-id-2 div.sk-item::before, #sk-container-id-2 div.sk-parallel-item::before {content: \"\";position: absolute;border-left: 1px solid gray;box-sizing: border-box;top: 0;bottom: 0;left: 50%;z-index: -1;}#sk-container-id-2 div.sk-parallel-item {display: flex;flex-direction: column;z-index: 1;position: relative;background-color: white;}#sk-container-id-2 div.sk-parallel-item:first-child::after {align-self: flex-end;width: 50%;}#sk-container-id-2 div.sk-parallel-item:last-child::after {align-self: flex-start;width: 50%;}#sk-container-id-2 div.sk-parallel-item:only-child::after {width: 0;}#sk-container-id-2 div.sk-dashed-wrapped {border: 1px dashed gray;margin: 0 0.4em 0.5em 0.4em;box-sizing: border-box;padding-bottom: 0.4em;background-color: white;}#sk-container-id-2 div.sk-label label {font-family: monospace;font-weight: bold;display: inline-block;line-height: 1.2em;}#sk-container-id-2 div.sk-label-container {text-align: center;}#sk-container-id-2 div.sk-container {/* jupyter's `normalize.less` sets `[hidden] { display: none; }` but bootstrap.min.css set `[hidden] { display: none !important; }` so we also need the `!important` here to be able to override the default hidden behavior on the sphinx rendered scikit-learn.org. See: https://github.com/scikit-learn/scikit-learn/issues/21755 */display: inline-block !important;position: relative;}#sk-container-id-2 div.sk-text-repr-fallback {display: none;}</style><div id=\"sk-container-id-2\" class=\"sk-top-container\"><div class=\"sk-text-repr-fallback\"><pre>SVC(C=1, kernel=&#x27;linear&#x27;)</pre><b>In a Jupyter environment, please rerun this cell to show the HTML representation or trust the notebook. <br />On GitHub, the HTML representation is unable to render, please try loading this page with nbviewer.org.</b></div><div class=\"sk-container\" hidden><div class=\"sk-item\"><div class=\"sk-estimator sk-toggleable\"><input class=\"sk-toggleable__control sk-hidden--visually\" id=\"sk-estimator-id-4\" type=\"checkbox\" checked><label for=\"sk-estimator-id-4\" class=\"sk-toggleable__label sk-toggleable__label-arrow\">SVC</label><div class=\"sk-toggleable__content\"><pre>SVC(C=1, kernel=&#x27;linear&#x27;)</pre></div></div></div></div></div>"
      ],
      "text/plain": [
       "SVC(C=1, kernel='linear')"
      ]
     },
     "execution_count": 42,
     "metadata": {},
     "output_type": "execute_result"
    }
   ],
   "source": [
    "from sklearn.model_selection import train_test_split\n",
    "x_train, x_test, y_train, y_test = train_test_split(df['Comment'], df['Sentiment'], test_size=0.2, random_state=42)\n",
    "\n",
    "tfidf_vectorizer = TfidfVectorizer(analyzer=\"word\", ngram_range=(1, 2), max_features=5000, sublinear_tf=True)\n",
    "x_train_tfidf = tfidf_vectorizer.fit_transform(x_train)\n",
    "x_test_tfidf = tfidf_vectorizer.transform(x_test)\n",
    "\n",
    "# SVM Model with optimized hyperparameters\n",
    "svm_clf = SVC(C=1, kernel='linear')\n",
    "svm_clf.fit(x_train_tfidf, y_train)"
   ]
  },
  {
   "cell_type": "markdown",
   "id": "b021a850",
   "metadata": {},
   "source": [
    "## Prediction "
   ]
  },
  {
   "cell_type": "code",
   "execution_count": 43,
   "id": "f1ba4776",
   "metadata": {
    "scrolled": true
   },
   "outputs": [
    {
     "name": "stdout",
     "output_type": "stream",
     "text": [
      "Prediction for 'bu çox pis videodur': ['neg']\n",
      "Prediction for 'bu əladır': ['pos']\n",
      "Prediction for 'bu programda problem var': ['neg']\n"
     ]
    }
   ],
   "source": [
    "input_texts = [\"bu çox pis videodur\", \"bu əladır\", \"bu programda problem var\"]\n",
    "\n",
    "for text in input_texts:\n",
    "    prediction = svm_clf.predict(tfidf_vectorizer.transform([text]))\n",
    "    print(f\"Prediction for '{text}': {prediction}\")"
   ]
  },
  {
   "cell_type": "markdown",
   "id": "b4d30166",
   "metadata": {},
   "source": [
    "## Scoring "
   ]
  },
  {
   "cell_type": "code",
   "execution_count": 44,
   "id": "7703c7c4",
   "metadata": {},
   "outputs": [
    {
     "name": "stdout",
     "output_type": "stream",
     "text": [
      "SVM Train Accuracy: 0.98625\n",
      "SVM Test Accuracy: 0.8525\n"
     ]
    }
   ],
   "source": [
    "train_score_svm = svm_clf.score(x_train_tfidf, y_train)\n",
    "test_score_svm = svm_clf.score(x_test_tfidf, y_test)\n",
    "print(\"SVM Train Accuracy:\", train_score_svm)\n",
    "print(\"SVM Test Accuracy:\", test_score_svm)"
   ]
  },
  {
   "cell_type": "code",
   "execution_count": 45,
   "id": "09a1b4e5",
   "metadata": {},
   "outputs": [
    {
     "name": "stdout",
     "output_type": "stream",
     "text": [
      "              precision    recall  f1-score   support\n",
      "\n",
      "         neg       0.86      0.84      0.85       201\n",
      "         pos       0.84      0.86      0.85       199\n",
      "\n",
      "    accuracy                           0.85       400\n",
      "   macro avg       0.85      0.85      0.85       400\n",
      "weighted avg       0.85      0.85      0.85       400\n",
      "\n"
     ]
    }
   ],
   "source": [
    "from sklearn.metrics import classification_report\n",
    "\n",
    "y_pred_svm = svm_clf.predict(x_test_tfidf)\n",
    "\n",
    "print(classification_report(y_test, y_pred_svm))"
   ]
  },
  {
   "cell_type": "code",
   "execution_count": 46,
   "id": "5ed2d390",
   "metadata": {
    "scrolled": true
   },
   "outputs": [
    {
     "data": {
      "text/plain": [
       "array(['pos', 'pos', 'neg', 'neg', 'neg', 'neg', 'neg', 'neg', 'neg',\n",
       "       'neg', 'neg', 'neg', 'neg', 'pos', 'pos', 'pos', 'neg', 'pos',\n",
       "       'pos', 'neg', 'pos', 'pos', 'pos', 'pos', 'pos', 'neg', 'pos',\n",
       "       'pos', 'neg', 'pos', 'pos', 'pos', 'pos', 'pos', 'pos', 'pos',\n",
       "       'neg', 'neg', 'neg', 'neg', 'pos', 'neg', 'pos', 'pos', 'pos',\n",
       "       'neg', 'neg', 'neg', 'neg', 'neg', 'pos', 'neg', 'neg', 'neg',\n",
       "       'neg', 'pos', 'neg', 'pos', 'neg', 'pos', 'pos', 'neg', 'pos',\n",
       "       'pos', 'neg', 'neg', 'pos', 'neg', 'neg', 'neg', 'pos', 'pos',\n",
       "       'pos', 'pos', 'pos', 'pos', 'pos', 'neg', 'neg', 'neg', 'pos',\n",
       "       'neg', 'pos', 'neg', 'pos', 'neg', 'pos', 'pos', 'neg', 'pos',\n",
       "       'pos', 'pos', 'pos', 'neg', 'pos', 'pos', 'neg', 'pos', 'pos',\n",
       "       'pos', 'pos', 'neg', 'neg', 'neg', 'pos', 'pos', 'pos', 'neg',\n",
       "       'neg', 'pos', 'pos', 'pos', 'neg', 'neg', 'pos', 'neg', 'pos',\n",
       "       'pos', 'neg', 'pos', 'neg', 'neg', 'neg', 'neg', 'neg', 'neg',\n",
       "       'neg', 'pos', 'neg', 'neg', 'neg', 'neg', 'neg', 'pos', 'neg',\n",
       "       'neg', 'pos', 'neg', 'pos', 'neg', 'pos', 'pos', 'neg', 'pos',\n",
       "       'neg', 'neg', 'neg', 'pos', 'neg', 'pos', 'pos', 'pos', 'pos',\n",
       "       'pos', 'neg', 'neg', 'pos', 'neg', 'pos', 'neg', 'pos', 'neg',\n",
       "       'neg', 'pos', 'pos', 'neg', 'neg', 'neg', 'neg', 'neg', 'pos',\n",
       "       'neg', 'neg', 'pos', 'pos', 'pos', 'pos', 'neg', 'neg', 'neg',\n",
       "       'pos', 'neg', 'pos', 'pos', 'neg', 'neg', 'pos', 'pos', 'pos',\n",
       "       'pos', 'neg', 'neg', 'pos', 'neg', 'pos', 'pos', 'neg', 'pos',\n",
       "       'pos', 'neg', 'pos', 'neg', 'neg', 'pos', 'pos', 'neg', 'neg',\n",
       "       'pos', 'pos', 'neg', 'neg', 'neg', 'pos', 'neg', 'neg', 'neg',\n",
       "       'neg', 'neg', 'pos', 'neg', 'neg', 'pos', 'neg', 'pos', 'pos',\n",
       "       'pos', 'pos', 'neg', 'pos', 'pos', 'neg', 'neg', 'pos', 'pos',\n",
       "       'pos', 'pos', 'pos', 'pos', 'neg', 'pos', 'neg', 'neg', 'neg',\n",
       "       'pos', 'pos', 'neg', 'pos', 'pos', 'neg', 'pos', 'pos', 'neg',\n",
       "       'neg', 'pos', 'neg', 'pos', 'pos', 'neg', 'neg', 'pos', 'neg',\n",
       "       'pos', 'neg', 'pos', 'pos', 'pos', 'pos', 'neg', 'neg', 'neg',\n",
       "       'pos', 'neg', 'neg', 'neg', 'pos', 'pos', 'pos', 'pos', 'neg',\n",
       "       'pos', 'neg', 'pos', 'neg', 'pos', 'pos', 'neg', 'neg', 'pos',\n",
       "       'pos', 'neg', 'neg', 'neg', 'neg', 'pos', 'pos', 'neg', 'neg',\n",
       "       'pos', 'neg', 'neg', 'neg', 'pos', 'neg', 'pos', 'pos', 'pos',\n",
       "       'neg', 'neg', 'pos', 'pos', 'pos', 'neg', 'pos', 'pos', 'neg',\n",
       "       'pos', 'neg', 'neg', 'pos', 'neg', 'neg', 'pos', 'pos', 'pos',\n",
       "       'pos', 'pos', 'pos', 'neg', 'neg', 'pos', 'neg', 'pos', 'neg',\n",
       "       'pos', 'neg', 'neg', 'pos', 'pos', 'neg', 'neg', 'pos', 'neg',\n",
       "       'neg', 'pos', 'pos', 'pos', 'pos', 'pos', 'neg', 'pos', 'pos',\n",
       "       'neg', 'pos', 'neg', 'neg', 'pos', 'neg', 'pos', 'pos', 'pos',\n",
       "       'pos', 'neg', 'pos', 'pos', 'neg', 'neg', 'neg', 'neg', 'neg',\n",
       "       'pos', 'pos', 'pos', 'pos', 'neg', 'neg', 'neg', 'neg', 'pos',\n",
       "       'neg', 'pos', 'pos', 'pos', 'pos', 'neg', 'neg', 'neg', 'pos',\n",
       "       'neg', 'pos', 'neg', 'neg', 'pos', 'pos', 'neg', 'pos', 'neg',\n",
       "       'pos', 'neg', 'pos', 'neg'], dtype=object)"
      ]
     },
     "execution_count": 46,
     "metadata": {},
     "output_type": "execute_result"
    }
   ],
   "source": [
    "y_pred_svm"
   ]
  },
  {
   "cell_type": "markdown",
   "id": "7d4bb81d",
   "metadata": {},
   "source": [
    "## Confusion Matrix"
   ]
  },
  {
   "cell_type": "code",
   "execution_count": 47,
   "id": "f5f663a1",
   "metadata": {
    "scrolled": false
   },
   "outputs": [
    {
     "name": "stdout",
     "output_type": "stream",
     "text": [
      "SVM Confusion Matrix:\n",
      "[[169  32]\n",
      " [ 27 172]]\n"
     ]
    },
    {
     "data": {
      "text/plain": [
       "Text(0.5, 1.0, 'SVM Confusion Matrix')"
      ]
     },
     "execution_count": 47,
     "metadata": {},
     "output_type": "execute_result"
    },
    {
     "data": {
      "image/png": "[encoded data removed]",
      "text/plain": [
       "<Figure size 640x480 with 2 Axes>"
      ]
     },
     "metadata": {},
     "output_type": "display_data"
    }
   ],
   "source": [
    "from sklearn.metrics import confusion_matrix, ConfusionMatrixDisplay\n",
    "import matplotlib.pyplot as plt\n",
    "\n",
    "confusion_matrix_svm = confusion_matrix(y_test, y_pred_svm)\n",
    "unique_labels = sorted(list(set(y_test)))\n",
    "\n",
    "cm_display_svm = ConfusionMatrixDisplay(confusion_matrix=confusion_matrix_svm, display_labels=unique_labels)\n",
    "cm_display_svm.plot(cmap=plt.cm.Blues, values_format='d', ax=None)\n",
    "\n",
    "print(\"SVM Confusion Matrix:\")\n",
    "print(confusion_matrix_svm)\n",
    "\n",
    "plt.title(\"SVM Confusion Matrix\")"
   ]
  },
  {
   "cell_type": "markdown",
   "id": "2fd730ae",
   "metadata": {},
   "source": [
    "## Saving to pickle file "
   ]
  },
  {
   "cell_type": "code",
   "execution_count": 48,
   "id": "8fe2b978",
   "metadata": {},
   "outputs": [],
   "source": [
    "import pickle"
   ]
  },
  {
   "cell_type": "code",
   "execution_count": 49,
   "id": "d844abd3",
   "metadata": {},
   "outputs": [],
   "source": [
    "fn = 'sentimentAnalysisWithSvm'"
   ]
  },
  {
   "cell_type": "code",
   "execution_count": 50,
   "id": "46810ca5",
   "metadata": {},
   "outputs": [],
   "source": [
    "with open(fn,'wb') as file:\n",
    "    pickle.dump(svm_clf, file)"
   ]
  },
  {
   "cell_type": "markdown",
   "id": "bbe9b71b",
   "metadata": {},
   "source": [
    "## Testing pickle file"
   ]
  },
  {
   "cell_type": "code",
   "execution_count": 51,
   "id": "968d1c7b",
   "metadata": {},
   "outputs": [],
   "source": [
    "fn = 'sentimentAnalysisWithSvm'"
   ]
  },
  {
   "cell_type": "code",
   "execution_count": 52,
   "id": "95455c85",
   "metadata": {},
   "outputs": [],
   "source": [
    "with open(fn,'rb') as file:\n",
    "    loaded_svm_clf = pickle.load(file)"
   ]
  },
  {
   "cell_type": "code",
   "execution_count": 54,
   "id": "e21547f6",
   "metadata": {
    "scrolled": true
   },
   "outputs": [
    {
     "name": "stdout",
     "output_type": "stream",
     "text": [
      "Prediction for 'salam. menim akkauntumda problem var': ['neg']\n"
     ]
    }
   ],
   "source": [
    "# Perform predictions using the loaded SVM model\n",
    "input_texts = [\"salam. menim akkauntumda problem var\"]\n",
    "for text in input_texts:\n",
    "    transformed_input = tfidf_vectorizer.transform([text]) \n",
    "    prediction = loaded_svm_clf.predict(transformed_input)\n",
    "    print(f\"Prediction for '{text}': {prediction}\")\n"
   ]
  },
  {
   "cell_type": "code",
   "execution_count": null,
   "id": "8a3b9ede",
   "metadata": {},
   "outputs": [],
   "source": []
  },
  {
   "cell_type": "markdown",
   "id": "6015141d",
   "metadata": {},
   "source": [
    "# Logistic regression"
   ]
  },
  {
   "cell_type": "code",
   "execution_count": 55,
   "id": "fe044242",
   "metadata": {},
   "outputs": [],
   "source": [
    "# Import necessary libraries for Logistic Regression\n",
    "from sklearn.linear_model import LogisticRegression\n",
    "from sklearn.metrics import classification_report, confusion_matrix, ConfusionMatrixDisplay\n",
    "import matplotlib.pyplot as plt"
   ]
  },
  {
   "cell_type": "code",
   "execution_count": 56,
   "id": "19c9c66b",
   "metadata": {},
   "outputs": [],
   "source": [
    "from sklearn.model_selection import train_test_split\n",
    "x_train, x_test, y_train, y_test = train_test_split(df['Comment'], df['Sentiment'], test_size=0.2, random_state=42)"
   ]
  },
  {
   "cell_type": "code",
   "execution_count": 57,
   "id": "a9adf6f8",
   "metadata": {
    "scrolled": false
   },
   "outputs": [
    {
     "data": {
      "text/html": [
       "<style>#sk-container-id-3 {color: black;}#sk-container-id-3 pre{padding: 0;}#sk-container-id-3 div.sk-toggleable {background-color: white;}#sk-container-id-3 label.sk-toggleable__label {cursor: pointer;display: block;width: 100%;margin-bottom: 0;padding: 0.3em;box-sizing: border-box;text-align: center;}#sk-container-id-3 label.sk-toggleable__label-arrow:before {content: \"▸\";float: left;margin-right: 0.25em;color: #696969;}#sk-container-id-3 label.sk-toggleable__label-arrow:hover:before {color: black;}#sk-container-id-3 div.sk-estimator:hover label.sk-toggleable__label-arrow:before {color: black;}#sk-container-id-3 div.sk-toggleable__content {max-height: 0;max-width: 0;overflow: hidden;text-align: left;background-color: #f0f8ff;}#sk-container-id-3 div.sk-toggleable__content pre {margin: 0.2em;color: black;border-radius: 0.25em;background-color: #f0f8ff;}#sk-container-id-3 input.sk-toggleable__control:checked~div.sk-toggleable__content {max-height: 200px;max-width: 100%;overflow: auto;}#sk-container-id-3 input.sk-toggleable__control:checked~label.sk-toggleable__label-arrow:before {content: \"▾\";}#sk-container-id-3 div.sk-estimator input.sk-toggleable__control:checked~label.sk-toggleable__label {background-color: #d4ebff;}#sk-container-id-3 div.sk-label input.sk-toggleable__control:checked~label.sk-toggleable__label {background-color: #d4ebff;}#sk-container-id-3 input.sk-hidden--visually {border: 0;clip: rect(1px 1px 1px 1px);clip: rect(1px, 1px, 1px, 1px);height: 1px;margin: -1px;overflow: hidden;padding: 0;position: absolute;width: 1px;}#sk-container-id-3 div.sk-estimator {font-family: monospace;background-color: #f0f8ff;border: 1px dotted black;border-radius: 0.25em;box-sizing: border-box;margin-bottom: 0.5em;}#sk-container-id-3 div.sk-estimator:hover {background-color: #d4ebff;}#sk-container-id-3 div.sk-parallel-item::after {content: \"\";width: 100%;border-bottom: 1px solid gray;flex-grow: 1;}#sk-container-id-3 div.sk-label:hover label.sk-toggleable__label {background-color: #d4ebff;}#sk-container-id-3 div.sk-serial::before {content: \"\";position: absolute;border-left: 1px solid gray;box-sizing: border-box;top: 0;bottom: 0;left: 50%;z-index: 0;}#sk-container-id-3 div.sk-serial {display: flex;flex-direction: column;align-items: center;background-color: white;padding-right: 0.2em;padding-left: 0.2em;position: relative;}#sk-container-id-3 div.sk-item {position: relative;z-index: 1;}#sk-container-id-3 div.sk-parallel {display: flex;align-items: stretch;justify-content: center;background-color: white;position: relative;}#sk-container-id-3 div.sk-item::before, #sk-container-id-3 div.sk-parallel-item::before {content: \"\";position: absolute;border-left: 1px solid gray;box-sizing: border-box;top: 0;bottom: 0;left: 50%;z-index: -1;}#sk-container-id-3 div.sk-parallel-item {display: flex;flex-direction: column;z-index: 1;position: relative;background-color: white;}#sk-container-id-3 div.sk-parallel-item:first-child::after {align-self: flex-end;width: 50%;}#sk-container-id-3 div.sk-parallel-item:last-child::after {align-self: flex-start;width: 50%;}#sk-container-id-3 div.sk-parallel-item:only-child::after {width: 0;}#sk-container-id-3 div.sk-dashed-wrapped {border: 1px dashed gray;margin: 0 0.4em 0.5em 0.4em;box-sizing: border-box;padding-bottom: 0.4em;background-color: white;}#sk-container-id-3 div.sk-label label {font-family: monospace;font-weight: bold;display: inline-block;line-height: 1.2em;}#sk-container-id-3 div.sk-label-container {text-align: center;}#sk-container-id-3 div.sk-container {/* jupyter's `normalize.less` sets `[hidden] { display: none; }` but bootstrap.min.css set `[hidden] { display: none !important; }` so we also need the `!important` here to be able to override the default hidden behavior on the sphinx rendered scikit-learn.org. See: https://github.com/scikit-learn/scikit-learn/issues/21755 */display: inline-block !important;position: relative;}#sk-container-id-3 div.sk-text-repr-fallback {display: none;}</style><div id=\"sk-container-id-3\" class=\"sk-top-container\"><div class=\"sk-text-repr-fallback\"><pre>LogisticRegression(max_iter=2000)</pre><b>In a Jupyter environment, please rerun this cell to show the HTML representation or trust the notebook. <br />On GitHub, the HTML representation is unable to render, please try loading this page with nbviewer.org.</b></div><div class=\"sk-container\" hidden><div class=\"sk-item\"><div class=\"sk-estimator sk-toggleable\"><input class=\"sk-toggleable__control sk-hidden--visually\" id=\"sk-estimator-id-5\" type=\"checkbox\" checked><label for=\"sk-estimator-id-5\" class=\"sk-toggleable__label sk-toggleable__label-arrow\">LogisticRegression</label><div class=\"sk-toggleable__content\"><pre>LogisticRegression(max_iter=2000)</pre></div></div></div></div></div>"
      ],
      "text/plain": [
       "LogisticRegression(max_iter=2000)"
      ]
     },
     "execution_count": 57,
     "metadata": {},
     "output_type": "execute_result"
    }
   ],
   "source": [
    "# Create and train a Logistic Regression model\n",
    "logreg_clf = LogisticRegression(max_iter=2000)\n",
    "logreg_clf.fit(x_train_tfidf, y_train)\n"
   ]
  },
  {
   "cell_type": "markdown",
   "id": "899a342d",
   "metadata": {},
   "source": [
    "## Prediction"
   ]
  },
  {
   "cell_type": "code",
   "execution_count": 58,
   "id": "6b23d1d4",
   "metadata": {},
   "outputs": [
    {
     "name": "stdout",
     "output_type": "stream",
     "text": [
      "Prediction for 'bu çox pis videodur': ['neg']\n",
      "Prediction for 'bu əladi': ['neg']\n",
      "Prediction for 'bu programda problem var': ['neg']\n"
     ]
    }
   ],
   "source": [
    "input_texts = [\"bu çox pis videodur\", \"bu əladi\", \"bu programda problem var\"]\n",
    "for text in input_texts:\n",
    "    prediction = logreg_clf.predict(tfidf_vectorizer.transform([text]))\n",
    "    print(f\"Prediction for '{text}': {prediction}\")"
   ]
  },
  {
   "cell_type": "markdown",
   "id": "b44d1130",
   "metadata": {},
   "source": [
    "## Scoring "
   ]
  },
  {
   "cell_type": "code",
   "execution_count": 59,
   "id": "81ad388b",
   "metadata": {},
   "outputs": [
    {
     "name": "stdout",
     "output_type": "stream",
     "text": [
      "Logistic Regression Train Accuracy: 0.97125\n",
      "Logistic Regression Test Accuracy: 0.8675\n"
     ]
    }
   ],
   "source": [
    "# Calculate training and testing accuracy\n",
    "train_score_logreg = logreg_clf.score(x_train_tfidf, y_train)\n",
    "test_score_logreg = logreg_clf.score(x_test_tfidf, y_test)\n",
    "print(\"Logistic Regression Train Accuracy:\", train_score_logreg)\n",
    "print(\"Logistic Regression Test Accuracy:\", test_score_logreg)"
   ]
  },
  {
   "cell_type": "code",
   "execution_count": 60,
   "id": "81f901e2",
   "metadata": {
    "scrolled": true
   },
   "outputs": [
    {
     "name": "stdout",
     "output_type": "stream",
     "text": [
      "              precision    recall  f1-score   support\n",
      "\n",
      "         neg       0.87      0.86      0.87       201\n",
      "         pos       0.86      0.87      0.87       199\n",
      "\n",
      "    accuracy                           0.87       400\n",
      "   macro avg       0.87      0.87      0.87       400\n",
      "weighted avg       0.87      0.87      0.87       400\n",
      "\n"
     ]
    }
   ],
   "source": [
    "from sklearn.metrics import classification_report\n",
    "\n",
    "y_pred_logreg = logreg_clf.predict(x_test_tfidf)\n",
    "\n",
    "print(classification_report(y_test, y_pred_logreg))"
   ]
  },
  {
   "cell_type": "code",
   "execution_count": 61,
   "id": "c1e988b3",
   "metadata": {},
   "outputs": [
    {
     "data": {
      "text/plain": [
       "array(['pos', 'pos', 'neg', 'neg', 'neg', 'neg', 'neg', 'neg', 'neg',\n",
       "       'neg', 'neg', 'neg', 'neg', 'pos', 'pos', 'pos', 'neg', 'neg',\n",
       "       'pos', 'neg', 'pos', 'pos', 'pos', 'pos', 'pos', 'pos', 'pos',\n",
       "       'pos', 'neg', 'pos', 'pos', 'pos', 'pos', 'pos', 'pos', 'pos',\n",
       "       'neg', 'neg', 'neg', 'neg', 'pos', 'neg', 'pos', 'pos', 'pos',\n",
       "       'neg', 'neg', 'neg', 'pos', 'neg', 'pos', 'neg', 'neg', 'neg',\n",
       "       'neg', 'pos', 'neg', 'pos', 'neg', 'pos', 'pos', 'neg', 'pos',\n",
       "       'pos', 'neg', 'neg', 'pos', 'neg', 'pos', 'neg', 'pos', 'pos',\n",
       "       'pos', 'pos', 'pos', 'pos', 'pos', 'neg', 'neg', 'neg', 'pos',\n",
       "       'neg', 'pos', 'pos', 'pos', 'neg', 'pos', 'pos', 'neg', 'pos',\n",
       "       'pos', 'pos', 'pos', 'neg', 'pos', 'pos', 'neg', 'pos', 'pos',\n",
       "       'pos', 'pos', 'neg', 'neg', 'neg', 'pos', 'pos', 'pos', 'pos',\n",
       "       'neg', 'neg', 'pos', 'pos', 'neg', 'neg', 'pos', 'neg', 'pos',\n",
       "       'pos', 'neg', 'pos', 'neg', 'neg', 'neg', 'neg', 'pos', 'neg',\n",
       "       'neg', 'pos', 'neg', 'neg', 'neg', 'neg', 'neg', 'pos', 'neg',\n",
       "       'neg', 'pos', 'neg', 'pos', 'neg', 'pos', 'pos', 'neg', 'pos',\n",
       "       'neg', 'neg', 'neg', 'pos', 'neg', 'pos', 'pos', 'pos', 'pos',\n",
       "       'pos', 'neg', 'neg', 'pos', 'neg', 'pos', 'neg', 'pos', 'neg',\n",
       "       'neg', 'pos', 'neg', 'neg', 'neg', 'pos', 'neg', 'neg', 'pos',\n",
       "       'neg', 'neg', 'pos', 'pos', 'pos', 'pos', 'neg', 'neg', 'neg',\n",
       "       'pos', 'neg', 'pos', 'pos', 'neg', 'neg', 'pos', 'pos', 'pos',\n",
       "       'pos', 'neg', 'neg', 'pos', 'neg', 'pos', 'pos', 'neg', 'pos',\n",
       "       'pos', 'neg', 'pos', 'neg', 'neg', 'pos', 'pos', 'neg', 'neg',\n",
       "       'pos', 'pos', 'neg', 'neg', 'neg', 'pos', 'neg', 'neg', 'neg',\n",
       "       'neg', 'neg', 'pos', 'neg', 'neg', 'neg', 'neg', 'pos', 'pos',\n",
       "       'pos', 'pos', 'neg', 'pos', 'pos', 'neg', 'neg', 'pos', 'pos',\n",
       "       'pos', 'pos', 'pos', 'neg', 'neg', 'pos', 'neg', 'neg', 'neg',\n",
       "       'pos', 'pos', 'neg', 'pos', 'pos', 'neg', 'pos', 'pos', 'neg',\n",
       "       'neg', 'pos', 'neg', 'pos', 'pos', 'neg', 'neg', 'pos', 'neg',\n",
       "       'pos', 'neg', 'pos', 'pos', 'pos', 'pos', 'neg', 'neg', 'neg',\n",
       "       'pos', 'neg', 'neg', 'neg', 'pos', 'pos', 'pos', 'neg', 'neg',\n",
       "       'pos', 'neg', 'pos', 'neg', 'pos', 'pos', 'neg', 'neg', 'pos',\n",
       "       'neg', 'neg', 'neg', 'neg', 'neg', 'pos', 'pos', 'neg', 'neg',\n",
       "       'pos', 'neg', 'neg', 'neg', 'pos', 'neg', 'pos', 'pos', 'pos',\n",
       "       'neg', 'neg', 'pos', 'pos', 'pos', 'neg', 'pos', 'pos', 'neg',\n",
       "       'pos', 'neg', 'neg', 'pos', 'neg', 'neg', 'pos', 'pos', 'pos',\n",
       "       'neg', 'pos', 'pos', 'neg', 'neg', 'pos', 'neg', 'pos', 'neg',\n",
       "       'pos', 'neg', 'neg', 'pos', 'neg', 'neg', 'neg', 'pos', 'neg',\n",
       "       'neg', 'pos', 'pos', 'pos', 'pos', 'pos', 'neg', 'pos', 'pos',\n",
       "       'neg', 'pos', 'neg', 'neg', 'pos', 'neg', 'pos', 'pos', 'pos',\n",
       "       'pos', 'neg', 'pos', 'pos', 'neg', 'neg', 'neg', 'neg', 'neg',\n",
       "       'pos', 'pos', 'pos', 'pos', 'neg', 'neg', 'neg', 'neg', 'pos',\n",
       "       'neg', 'pos', 'pos', 'pos', 'pos', 'neg', 'neg', 'neg', 'pos',\n",
       "       'neg', 'pos', 'neg', 'neg', 'pos', 'pos', 'neg', 'pos', 'neg',\n",
       "       'pos', 'neg', 'pos', 'neg'], dtype=object)"
      ]
     },
     "execution_count": 61,
     "metadata": {},
     "output_type": "execute_result"
    }
   ],
   "source": [
    "y_pred_logreg"
   ]
  },
  {
   "cell_type": "code",
   "execution_count": 62,
   "id": "48e4053c",
   "metadata": {},
   "outputs": [
    {
     "name": "stdout",
     "output_type": "stream",
     "text": [
      "Logistic Regression Confusion Matrix:\n",
      "[[173  28]\n",
      " [ 25 174]]\n"
     ]
    },
    {
     "data": {
      "image/png": "[encoded data removed]",
      "text/plain": [
       "<Figure size 640x480 with 2 Axes>"
      ]
     },
     "metadata": {},
     "output_type": "display_data"
    }
   ],
   "source": [
    "confusion_matrix_logreg = confusion_matrix(y_test, y_pred_logreg)\n",
    "unique_labels = sorted(list(set(y_test)))\n",
    "\n",
    "cm_display_logreg = ConfusionMatrixDisplay(confusion_matrix=confusion_matrix_logreg, display_labels=unique_labels)\n",
    "cm_display_logreg.plot(cmap=plt.cm.Blues, values_format='d', ax=None)\n",
    "\n",
    "print(\"Logistic Regression Confusion Matrix:\")\n",
    "print(confusion_matrix_logreg)\n",
    "\n",
    "plt.title(\"Logistic Regression Confusion Matrix\")\n",
    "plt.show()"
   ]
  },
  {
   "cell_type": "markdown",
   "id": "171b6917",
   "metadata": {},
   "source": [
    "## Saving to Pickle File"
   ]
  },
  {
   "cell_type": "code",
   "execution_count": 63,
   "id": "16e591ab",
   "metadata": {},
   "outputs": [],
   "source": [
    "import pickle"
   ]
  },
  {
   "cell_type": "code",
   "execution_count": 64,
   "id": "c6065ac0",
   "metadata": {},
   "outputs": [],
   "source": [
    "fn3='sentimentanalysisWithLogisticReg.pkl'"
   ]
  },
  {
   "cell_type": "code",
   "execution_count": 65,
   "id": "30363895",
   "metadata": {},
   "outputs": [],
   "source": [
    "with open(fn3,'wb') as file:\n",
    "    pickle.dump(logreg_clf, file)"
   ]
  },
  {
   "cell_type": "markdown",
   "id": "845c4173",
   "metadata": {},
   "source": [
    "## Testing Pickle File "
   ]
  },
  {
   "cell_type": "code",
   "execution_count": 66,
   "id": "4c3e6bca",
   "metadata": {},
   "outputs": [],
   "source": [
    "filename='sentimentanalysis.pkl'"
   ]
  },
  {
   "cell_type": "code",
   "execution_count": 67,
   "id": "7620fe43",
   "metadata": {},
   "outputs": [],
   "source": [
    "with open(fn3,'rb') as file:\n",
    "    loaded_logreg_clf = pickle.load(file)"
   ]
  },
  {
   "cell_type": "code",
   "execution_count": 68,
   "id": "fdde4b59",
   "metadata": {},
   "outputs": [
    {
     "name": "stdout",
     "output_type": "stream",
     "text": [
      "Prediction for 'salam. menim akkauntumda problem var': ['neg']\n"
     ]
    }
   ],
   "source": [
    "input_texts = [\"salam. menim akkauntumda problem var\"]\n",
    "for text in input_texts:\n",
    "    transformed_input = tfidf_vectorizer.transform([text]) \n",
    "    prediction = loaded_logreg_clf.predict(transformed_input)\n",
    "    print(f\"Prediction for '{text}': {prediction}\")\n"
   ]
  },
  {
   "cell_type": "code",
   "execution_count": null,
   "id": "6ad6c570",
   "metadata": {},
   "outputs": [],
   "source": []
  }
 ],
 "metadata": {
  "kernelspec": {
   "display_name": "Python 3 (ipykernel)",
   "language": "python",
   "name": "python3"
  },
  "language_info": {
   "codemirror_mode": {
    "name": "ipython",
    "version": 3
   },
   "file_extension": ".py",
   "mimetype": "text/x-python",
   "name": "python",
   "nbconvert_exporter": "python",
   "pygments_lexer": "ipython3",
   "version": "3.9.7"
  }
 },
 "nbformat": 4,
 "nbformat_minor": 5
}
